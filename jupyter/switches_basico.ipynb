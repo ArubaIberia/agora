{
 "cells": [
  {
   "cell_type": "code",
   "execution_count": 30,
   "metadata": {},
   "outputs": [
    {
     "data": {
      "text/plain": [
       "('192.168.XX.XX', 'operator', 'EL PASSWORD')"
      ]
     },
     "execution_count": 30,
     "metadata": {},
     "output_type": "execute_result"
    }
   ],
   "source": [
    "# Ejemplo de autenticación básica, sin usar el módulo Aruba.\n",
    "# Realiza una conexión REST a un switch y lee la lista de VLANs.\n",
    "\n",
    "import requests\n",
    "import sys\n",
    "import logging\n",
    "\n",
    "# Vamos a conectarnos a servidores HTTPS con certificados autofirmados,\n",
    "# desactivamos los warnings para que no salgan por consola\n",
    "logging.captureWarnings(True)\n",
    "\n",
    "# Variables para la conexión\n",
    "host_add = \"192.168.XX.XX\"\n",
    "username = \"operator\"\n",
    "password = \"EL PASSWORD\"\n",
    "\n",
    "host_add, username, password"
   ]
  },
  {
   "cell_type": "code",
   "execution_count": 31,
   "metadata": {},
   "outputs": [
    {
     "data": {
      "text/plain": [
       "'https://192.168.XX.XX/rest/v3'"
      ]
     },
     "execution_count": 31,
     "metadata": {},
     "output_type": "execute_result"
    }
   ],
   "source": [
    "# Primer paso: construir la URL de la API a partir de la IP del switch\n",
    "url_api = \"https://{}/rest/v4\".format(host_add)\n",
    "url_api"
   ]
  },
  {
   "cell_type": "code",
   "execution_count": 26,
   "metadata": {},
   "outputs": [
    {
     "data": {
      "text/plain": [
       "{'cookie': 'sessionId=O4nDjdVKrmv8SRjarNBFuhbQgQK7dDTp3mVs3YbF5HOWsWUv2rS6cMzMKQ3cGES',\n",
       " 'uri': '/login-sessions'}"
      ]
     },
     "execution_count": 26,
     "metadata": {},
     "output_type": "execute_result"
    }
   ],
   "source": [
    "# Segundo paso: Autenticar al usuario\n",
    "response = requests.post(url_api + \"/login-sessions\", verify=False, json={\n",
    "    \"userName\": username,\n",
    "    \"password\": password\n",
    "})\n",
    "if response.status_code != 201:\n",
    "    print(\"Error de autenticación: \", response.text)\n",
    "    sys.exit(-1)\n",
    "\n",
    "data = response.json()\n",
    "data"
   ]
  },
  {
   "cell_type": "code",
   "execution_count": 27,
   "metadata": {},
   "outputs": [
    {
     "data": {
      "text/plain": [
       "{'Cookie': 'sessionId=O4nDjdVKrmv8SRjarNBFuhbQgQK7dDTp3mVs3YbF5HOWsWUv2rS6cMzMKQ3cGES'}"
      ]
     },
     "execution_count": 27,
     "metadata": {},
     "output_type": "execute_result"
    }
   ],
   "source": [
    "# Tercer paso: Construir las cabeceras para el resto de\n",
    "# peticiones HTTP\n",
    "headers = { \"Cookie\": data[\"cookie\"] }\n",
    "headers"
   ]
  },
  {
   "cell_type": "code",
   "execution_count": 28,
   "metadata": {},
   "outputs": [],
   "source": [
    "# Cuarto paso: Hacer lo que queramos hacer\n",
    "# Ejemplo: leer VLANs\n",
    "\n",
    "response = requests.get(url_api + \"/vlans\", verify=False, headers=headers)\n",
    "if response.status_code != 200:\n",
    "    print(\"Error de autenticación: \", response.text)\n",
    "    sys.exit(-1)\n",
    "\n",
    "data = response.json()"
   ]
  },
  {
   "cell_type": "code",
   "execution_count": 29,
   "metadata": {},
   "outputs": [
    {
     "data": {
      "text/plain": [
       "204"
      ]
     },
     "execution_count": 29,
     "metadata": {},
     "output_type": "execute_result"
    }
   ],
   "source": [
    "# Último paso: Con los switches, es importante al terminar cerrar la sesion,\n",
    "# Porque el mnumero de sesiones REST abiertas que soportan es bajo\n",
    "response = requests.delete(url_api + \"/login-sessions\", verify=False, headers=headers)\n",
    "response.status_code"
   ]
  },
  {
   "cell_type": "code",
   "execution_count": null,
   "metadata": {},
   "outputs": [],
   "source": []
  }
 ],
 "metadata": {
  "kernelspec": {
   "display_name": "agora",
   "language": "python",
   "name": "agora"
  },
  "language_info": {
   "codemirror_mode": {
    "name": "ipython",
    "version": 3
   },
   "file_extension": ".py",
   "mimetype": "text/x-python",
   "name": "python",
   "nbconvert_exporter": "python",
   "pygments_lexer": "ipython3",
   "version": "3.6.4"
  }
 },
 "nbformat": 4,
 "nbformat_minor": 2
}
